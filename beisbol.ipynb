{
 "cells": [
  {
   "cell_type": "code",
   "execution_count": 9,
   "id": "a24b758f-25bb-44b2-98af-328dc0108bc4",
   "metadata": {},
   "outputs": [],
   "source": [
    "import requests\n",
    "from bs4 import BeautifulSoup"
   ]
  },
  {
   "cell_type": "code",
   "execution_count": 12,
   "id": "4d9ca6e0-209a-4cc9-ae40-e39a5f0ef145",
   "metadata": {},
   "outputs": [],
   "source": [
    "URL = 'https://baseballsavant.mlb.com/savant-player/aaron-judge-592450?stats=statcast-r-hitting-mlb'\n",
    "\n",
    "page = requests.get(URL)\n",
    "soup = BeautifulSoup(page.content, 'html.parser')"
   ]
  },
  {
   "cell_type": "code",
   "execution_count": 15,
   "id": "1bf1af90-d73e-455c-83b8-338bdf7622fb",
   "metadata": {},
   "outputs": [
    {
     "name": "stdout",
     "output_type": "stream",
     "text": [
      "<title>Aaron Judge Statcast, Visuals &amp; Advanced Metrics  | MLB.com | baseballsavant.com</title>\n"
     ]
    }
   ],
   "source": [
    "print(soup.head.title)"
   ]
  },
  {
   "cell_type": "code",
   "execution_count": 17,
   "id": "d015250c-ffba-4d5d-b57d-43e137437ab1",
   "metadata": {},
   "outputs": [
    {
     "data": {
      "text/plain": [
       "<div class=\"chart-container\" id=\"percentile-rankings\">\n",
       "<div id=\"percentile-rank\"></div>\n",
       "<div id=\"legend\" style=\"width: 33%; text-align: center; display: none;\">\n",
       "<svg height=\"40\" width=\"100\">\n",
       "<g transform=\"translate(15,0)\">\n",
       "<line stroke=\"#9b9b9b\" stroke-width=\"3px\" x1=\"0\" x2=\"73\" y1=\"16.666666666666668\" y2=\"16.666666666666668\"></line>\n",
       "<circle cx=\"0.365\" cy=\"16.666666666666668\" fill=\"#9b9b9b\" r=\"2\" stroke=\"#9b9b9b\"></circle>\n",
       "<circle cx=\"73.365\" cy=\"16.666666666666668\" fill=\"#9b9b9b\" r=\"2\" stroke=\"#9b9b9b\"></circle>\n",
       "<circle cx=\"36.5\" cy=\"16.666666666666668\" fill=\"#9b9b9b\" r=\"2\" stroke=\"#9b9b9b\"></circle>\n",
       "</g>\n",
       "<g style=\"fill: #3661AD;\" transform=\"translate(5,35)\">\n",
       "<text>Poor</text>\n",
       "</g>\n",
       "<g style=\"fill: #000;\" transform=\"translate(40,35)\">\n",
       "<text>Avg</text>\n",
       "</g>\n",
       "<g style=\"fill: #D82129;\" transform=\"translate(70,35)\">\n",
       "<text>Great</text>\n",
       "</g>\n",
       "</svg>\n",
       "</div>\n",
       "<div id=\"trending\" style=\"display: none;\">\n",
       "<hr id=\"hr-trending\" style=\"text-align: center; width: 90%; margin-top: 0px !important; margin-bottom: 0px !important; padding: 0; border-top:solid 1px #49a\"/>\n",
       "<div id=\"trending-pa\">\n",
       "<div class=\"rank-header-trending\">xwOBA</div>\n",
       "<div class=\"rank-header-rolling-container\">\n",
       "<div class=\"rank-rolling-container\" id=\"trending-50\">\n",
       "</div>\n",
       "<div class=\"rank-rolling-container\" id=\"trending-100\">\n",
       "</div>\n",
       "<div class=\"rank-rolling-container\" id=\"trending-250\">\n",
       "</div>\n",
       "</div>\n",
       "</div>\n",
       "</div>\n",
       "</div>"
      ]
     },
     "execution_count": 17,
     "metadata": {},
     "output_type": "execute_result"
    }
   ],
   "source": [
    "percentile_rankings = soup.find(id=\"percentile-rankings\")\n",
    "percentile_rankings"
   ]
  },
  {
   "cell_type": "code",
   "execution_count": null,
   "id": "428e5356-0bed-42c9-90b9-668af4c69e71",
   "metadata": {},
   "outputs": [],
   "source": []
  }
 ],
 "metadata": {
  "kernelspec": {
   "display_name": "Python 3 (ipykernel)",
   "language": "python",
   "name": "python3"
  },
  "language_info": {
   "codemirror_mode": {
    "name": "ipython",
    "version": 3
   },
   "file_extension": ".py",
   "mimetype": "text/x-python",
   "name": "python",
   "nbconvert_exporter": "python",
   "pygments_lexer": "ipython3",
   "version": "3.10.8"
  }
 },
 "nbformat": 4,
 "nbformat_minor": 5
}
